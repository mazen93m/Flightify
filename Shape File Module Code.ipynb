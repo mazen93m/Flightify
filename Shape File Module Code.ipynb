{
 "cells": [
  {
   "cell_type": "code",
   "execution_count": 39,
   "metadata": {},
   "outputs": [
    {
     "name": "stdout",
     "output_type": "stream",
     "text": [
      "Dummyfile\n",
      "Dummyfile2\n",
      "Dummyfile3\n",
      "kimshapefile\n"
     ]
    }
   ],
   "source": [
    "#Install packages if necessary\n",
    "#!pip install wheel\n",
    "#!pip install pipwin\n",
    "#!pipwin install numpy\n",
    "#!pipwin install pandas\n",
    "#!pipwin install shapely\n",
    "#!pipwin install gdal\n",
    "#!pipwin install fiona\n",
    "#!pipwin install pyproj\n",
    "#!pipwin install six\n",
    "#!pipwin install rtree\n",
    "#!pipwin install geopandas\n",
    "\n",
    "#Import necessary libraries\n",
    "import pandas as pd\n",
    "import geopandas as gpd\n",
    "import numpy as np\n",
    "import matplotlib.pyplot as plt\n",
    "import os\n",
    "from fiona.crs import from_epsg\n",
    "\n",
    "\n",
    "#Define function to create point shapefile in WGS84format. The epsg code for wgs1984 is 4326. \n",
    "\n",
    "def convert_to_shapefile(airport_gdf, out_file):\n",
    "    airport_gdf.crs = from_epsg(4326)\n",
    "    airport_gdf.to_file(out_file)\n",
    "    \n",
    "\n",
    "#Define function to create circle shapefile in WGS84 format\n",
    "#Buffer distance in decimal degrees, 0.725 corresponds to 50 miles\n",
    "\n",
    "def convert_to_circleshapefile(airport_gdf, out_file):\n",
    "      \n",
    "        airport_gdf['geometry'] = airport_gdf['geometry'].buffer(.725)\n",
    "        airport_gdf.crs = from_epsg(4326)\n",
    "        airport_gdf.to_file(out_file)\n",
    "\n",
    "        \n",
    "#Code to loop through all files in a directory and create point and circle shapefiles\n",
    "#Put in the directory where the VFR prediction output are\n",
    "\n",
    "directory = 'C:/Users/spong/Desktop/GMUCourses/1DAEN690/Dummy'\n",
    "os.listdir(directory)\n",
    "\n",
    "for file in os.listdir(directory):\n",
    "    if file.endswith(\".csv\"):\n",
    "        name = os.path.splitext(file)[0]\n",
    "        print(name)\n",
    "        df = pd.read_csv(os.path.join(directory, file))\n",
    "\n",
    "#Convert to GeoDataFrame. \n",
    "#Column names should be LATITUDE and LONGITUDE\n",
    "        \n",
    "        while True:\n",
    "            try:\n",
    "                airport_gdf = gpd.GeoDataFrame(df, geometry=gpd.points_from_xy(df['LONGITUDE'],\n",
    "                                                                         df['LATITUDE']))\n",
    "                break\n",
    "            except KeyError:\n",
    "                    print(\"Column names of Latitude and Longitude must be the same as in code\")\n",
    "                    break\n",
    "                     \n",
    "        point_filename= name + \".pointshape\"\n",
    "        point_file = os.path.join(directory, point_filename)\n",
    "        convert_to_shapefile(airport_gdf, point_file)\n",
    "        \n",
    "        \n",
    "        circle_filename= name + \".cirshape\"\n",
    "        circle_file = os.path.join(directory, circle_filename)\n",
    "        convert_to_circleshapefile(airport_gdf, circle_file)"
   ]
  }
 ],
 "metadata": {
  "kernelspec": {
   "display_name": "Python 3",
   "language": "python",
   "name": "python3"
  },
  "language_info": {
   "codemirror_mode": {
    "name": "ipython",
    "version": 3
   },
   "file_extension": ".py",
   "mimetype": "text/x-python",
   "name": "python",
   "nbconvert_exporter": "python",
   "pygments_lexer": "ipython3",
   "version": "3.7.4"
  }
 },
 "nbformat": 4,
 "nbformat_minor": 2
}
